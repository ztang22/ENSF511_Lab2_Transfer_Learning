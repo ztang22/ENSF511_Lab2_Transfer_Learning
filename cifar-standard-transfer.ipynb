{
 "cells": [
  {
   "cell_type": "code",
   "execution_count": 3,
   "metadata": {},
   "outputs": [
    {
     "name": "stderr",
     "output_type": "stream",
     "text": [
      "/home/bahrehvar.majid/.conda/envs/myenv/lib/python3.6/site-packages/tensorflow/python/framework/dtypes.py:526: FutureWarning: Passing (type, 1) or '1type' as a synonym of type is deprecated; in a future version of numpy, it will be understood as (type, (1,)) / '(1,)type'.\n",
      "  _np_qint8 = np.dtype([(\"qint8\", np.int8, 1)])\n",
      "/home/bahrehvar.majid/.conda/envs/myenv/lib/python3.6/site-packages/tensorflow/python/framework/dtypes.py:527: FutureWarning: Passing (type, 1) or '1type' as a synonym of type is deprecated; in a future version of numpy, it will be understood as (type, (1,)) / '(1,)type'.\n",
      "  _np_quint8 = np.dtype([(\"quint8\", np.uint8, 1)])\n",
      "/home/bahrehvar.majid/.conda/envs/myenv/lib/python3.6/site-packages/tensorflow/python/framework/dtypes.py:528: FutureWarning: Passing (type, 1) or '1type' as a synonym of type is deprecated; in a future version of numpy, it will be understood as (type, (1,)) / '(1,)type'.\n",
      "  _np_qint16 = np.dtype([(\"qint16\", np.int16, 1)])\n",
      "/home/bahrehvar.majid/.conda/envs/myenv/lib/python3.6/site-packages/tensorflow/python/framework/dtypes.py:529: FutureWarning: Passing (type, 1) or '1type' as a synonym of type is deprecated; in a future version of numpy, it will be understood as (type, (1,)) / '(1,)type'.\n",
      "  _np_quint16 = np.dtype([(\"quint16\", np.uint16, 1)])\n",
      "/home/bahrehvar.majid/.conda/envs/myenv/lib/python3.6/site-packages/tensorflow/python/framework/dtypes.py:530: FutureWarning: Passing (type, 1) or '1type' as a synonym of type is deprecated; in a future version of numpy, it will be understood as (type, (1,)) / '(1,)type'.\n",
      "  _np_qint32 = np.dtype([(\"qint32\", np.int32, 1)])\n",
      "/home/bahrehvar.majid/.conda/envs/myenv/lib/python3.6/site-packages/tensorflow/python/framework/dtypes.py:535: FutureWarning: Passing (type, 1) or '1type' as a synonym of type is deprecated; in a future version of numpy, it will be understood as (type, (1,)) / '(1,)type'.\n",
      "  np_resource = np.dtype([(\"resource\", np.ubyte, 1)])\n"
     ]
    }
   ],
   "source": [
    "from PIL import Image\n",
    "from tensorflow.keras.datasets import cifar10\n",
    "import seaborn as sns\n",
    "from tensorflow.keras.utils import to_categorical\n",
    "import tensorflow \n",
    "from tensorflow.keras.models import Sequential\n",
    "from tensorflow.keras.layers import Conv2D,MaxPool2D,Dense,Flatten,Dropout,Input, AveragePooling2D, Activation,Conv2D, MaxPooling2D, BatchNormalization,Concatenate\n",
    "from tensorflow.keras.callbacks import EarlyStopping, TensorBoard\n",
    "from tensorflow.keras import regularizers, optimizers\n",
    "from tensorflow.keras.preprocessing.image import ImageDataGenerator\n",
    "from tensorflow.keras.optimizers import SGD\n",
    "from tensorflow.math import confusion_matrix\n",
    "import numpy as np\n",
    "from sklearn.metrics import confusion_matrix\n",
    "import itertools\n",
    "import matplotlib.pyplot as plt\n",
    "import pandas as pd\n",
    "import glob,os\n",
    " "
   ]
  },
  {
   "cell_type": "code",
   "execution_count": 4,
   "metadata": {},
   "outputs": [
    {
     "name": "stdout",
     "output_type": "stream",
     "text": [
      "(6000, 32, 32, 3)\n",
      "(6000, 1)\n",
      "Shape of x_train is (55000, 32, 32, 3)\n",
      "Shape of x_test is (11000, 32, 32, 3)\n",
      "Shape of y_train is (55000, 1)\n",
      "Shape of y_test is (11000, 1)\n",
      "Shape of y_train after to_categorical is (55000, 11)\n",
      "(55000, 11)\n",
      "(11000, 11)\n",
      "WARNING:tensorflow:From /home/bahrehvar.majid/.conda/envs/myenv/lib/python3.6/site-packages/tensorflow/python/ops/resource_variable_ops.py:435: colocate_with (from tensorflow.python.framework.ops) is deprecated and will be removed in a future version.\n",
      "Instructions for updating:\n",
      "Colocations handled automatically by placer.\n",
      "WARNING:tensorflow:From /home/bahrehvar.majid/.conda/envs/myenv/lib/python3.6/site-packages/tensorflow/python/keras/layers/core.py:143: calling dropout (from tensorflow.python.ops.nn_ops) with keep_prob is deprecated and will be removed in a future version.\n",
      "Instructions for updating:\n",
      "Please use `rate` instead of `keep_prob`. Rate should be set to `rate = 1 - keep_prob`.\n",
      "Train on 55000 samples, validate on 11000 samples\n",
      "WARNING:tensorflow:From /home/bahrehvar.majid/.conda/envs/myenv/lib/python3.6/site-packages/tensorflow/python/ops/math_ops.py:3066: to_int32 (from tensorflow.python.ops.math_ops) is deprecated and will be removed in a future version.\n",
      "Instructions for updating:\n",
      "Use tf.cast instead.\n",
      "Epoch 1/10\n",
      "55000/55000 [==============================] - 190s 3ms/sample - loss: 1.6598 - acc: 0.4322 - val_loss: 1.1446 - val_acc: 0.6036\n",
      "Epoch 2/10\n",
      "55000/55000 [==============================] - 208s 4ms/sample - loss: 1.1042 - acc: 0.6204 - val_loss: 0.9091 - val_acc: 0.6908\n",
      "Epoch 3/10\n",
      "55000/55000 [==============================] - 184s 3ms/sample - loss: 0.8709 - acc: 0.7038 - val_loss: 0.7477 - val_acc: 0.7411\n",
      "Epoch 4/10\n",
      "55000/55000 [==============================] - 182s 3ms/sample - loss: 0.7650 - acc: 0.7423 - val_loss: 0.6533 - val_acc: 0.7754\n",
      "Epoch 5/10\n",
      "55000/55000 [==============================] - 183s 3ms/sample - loss: 0.6872 - acc: 0.7654 - val_loss: 0.6310 - val_acc: 0.7820\n",
      "Epoch 6/10\n",
      "55000/55000 [==============================] - 186s 3ms/sample - loss: 0.6280 - acc: 0.7883 - val_loss: 0.5524 - val_acc: 0.8057\n",
      "Epoch 7/10\n",
      "55000/55000 [==============================] - 191s 3ms/sample - loss: 0.5800 - acc: 0.8042 - val_loss: 0.5384 - val_acc: 0.8169\n",
      "Epoch 8/10\n",
      "55000/55000 [==============================] - 192s 3ms/sample - loss: 0.5414 - acc: 0.8176 - val_loss: 0.5083 - val_acc: 0.8289\n",
      "Epoch 9/10\n",
      "55000/55000 [==============================] - 194s 4ms/sample - loss: 0.5082 - acc: 0.8261 - val_loss: 0.4681 - val_acc: 0.8412\n",
      "Epoch 10/10\n",
      "55000/55000 [==============================] - 192s 3ms/sample - loss: 0.4874 - acc: 0.8352 - val_loss: 0.5549 - val_acc: 0.8143\n"
     ]
    }
   ],
   "source": [
    "\n",
    "\n",
    "(x_train, y_train), (x_test, y_test)=cifar10.load_data()\n",
    "#(x_train, y_train), (x_test, y_test)=(x_train[:1000,:,:,:], y_train[:1000]), (x_test[:200,:,:,:], y_test[:200])\n",
    "#filelist=glob.glob('/home/majid/Projects/ML/IoT/bobcatscraper/images/converted/*.jpg')\n",
    "\n",
    "instances = []\n",
    "\n",
    "# Load in the images\n",
    "for filepath in os.listdir(\"/home/bahrehvar.majid/IoT/LAB2/converted-augmneted\"):  \n",
    "    image=( Image.open('/home/bahrehvar.majid/IoT/LAB2/converted-augmneted/'+filepath))\n",
    "    data=np.asarray(image)\n",
    "    if data.shape!=(32,32,3): \n",
    "        print(filepath)\n",
    "        continue\n",
    "    instances.append(data)\n",
    "\n",
    "bobcats=np.stack(instances, axis=0)\n",
    "print(bobcats.shape)\n",
    "bobcat_group=np.arange(6000).reshape(6000,1); \n",
    "bobcat_group.fill(10)\n",
    "print(bobcat_group  .shape)\n",
    "x_train=np.concatenate((x_train,bobcats[:5000,:,:,:]),axis=0)\n",
    "x_test=np.concatenate((x_test,bobcats[5000:,:,:,:]),axis=0)\n",
    "y_train=np.concatenate((y_train,bobcat_group[:5000]),axis=0)\n",
    "y_test=np.concatenate((y_test,bobcat_group[5000:]),axis=0)\n",
    "\n",
    "\n",
    "print('Shape of x_train is {}'.format(x_train.shape))\n",
    "print('Shape of x_test is {}'.format(x_test.shape))\n",
    "print('Shape of y_train is {}'.format(y_train.shape))\n",
    "print('Shape of y_test is {}'.format(y_test.shape))\n",
    "\n",
    "\n",
    "a= to_categorical(y_train)\n",
    "\n",
    "print('Shape of y_train after to_categorical is {}'.format(a.shape))\n",
    "# Normalizing\n",
    "x_train=x_train/255\n",
    "x_test=x_test/255\n",
    "\n",
    "#One hot encoding\n",
    "y_train_cat=to_categorical(y_train,11)\n",
    "y_test_cat=to_categorical(y_test,11)\n",
    "\n",
    "print(y_train_cat.shape)\n",
    "print(y_test_cat.shape)\n",
    "\n",
    "\n",
    "def plot_confusion_matrix(cm, classes,\n",
    "                          normalize=False,\n",
    "                          title='Confusion matrix',\n",
    "                          cmap=plt.cm.Blues):\n",
    "\n",
    "  if normalize:\n",
    "      cm = cm.astype('float') / cm.sum(axis=1)[:, np.newaxis]\n",
    "      print(\"Normalized confusion matrix\")\n",
    "  else:\n",
    "      print('Confusion matrix, without normalization')\n",
    "\n",
    "  print(cm)\n",
    "\n",
    "  plt.imshow(cm, interpolation='nearest', cmap=cmap)\n",
    "  plt.title(title)\n",
    "  plt.colorbar()\n",
    "  tick_marks = np.arange(len(classes))\n",
    "  plt.xticks(tick_marks, classes, rotation=45)\n",
    "  plt.yticks(tick_marks, classes)\n",
    "\n",
    "  fmt = '.2f' if normalize else 'd'\n",
    "  thresh = cm.max() / 2.\n",
    "  for i, j in itertools.product(range(cm.shape[0]), range(cm.shape[1])):\n",
    "      plt.text(j, i, format(cm[i, j], fmt),\n",
    "               horizontalalignment=\"center\",\n",
    "               color=\"white\" if cm[i, j] > thresh else \"black\")\n",
    "\n",
    "  plt.tight_layout()\n",
    "  plt.ylabel('True label')\n",
    "  plt.xlabel('Predicted label')\n",
    "  plt.show()\n",
    "\n",
    "\n",
    "\n",
    "\n",
    "\n",
    "\n",
    "\n",
    "\n",
    "model = Sequential()\n",
    "model.add(Conv2D(32, (3, 3), activation='relu', kernel_initializer='he_uniform', padding='same', input_shape=(32, 32, 3)))\n",
    "model.add(BatchNormalization())\n",
    "model.add(Conv2D(32, (3, 3), activation='relu', kernel_initializer='he_uniform', padding='same'))\n",
    "model.add(BatchNormalization())\n",
    "model.add(MaxPool2D((2, 2)))\n",
    "model.add(Dropout(0.2))\n",
    "model.add(Conv2D(64, (3, 3), activation='relu', kernel_initializer='he_uniform', padding='same'))\n",
    "model.add(BatchNormalization())\n",
    "model.add(Conv2D(64, (3, 3), activation='relu', kernel_initializer='he_uniform', padding='same'))\n",
    "model.add(BatchNormalization())\n",
    "model.add(MaxPool2D((2, 2)))\n",
    "model.add(Dropout(0.3))\n",
    "model.add(Conv2D(128, (3, 3), activation='relu', kernel_initializer='he_uniform', padding='same'))\n",
    "model.add(BatchNormalization())\n",
    "model.add(Conv2D(128, (3, 3), activation='relu', kernel_initializer='he_uniform', padding='same'))\n",
    "model.add(BatchNormalization())\n",
    "model.add(MaxPool2D((2, 2)))\n",
    "model.add(Dropout(0.4))\n",
    "model.add(Flatten())\n",
    "model.add(Dense(128, activation='relu', kernel_initializer='he_uniform'))\n",
    "model.add(BatchNormalization())\n",
    "model.add(Dropout(0.5))\n",
    "model.add(Dense(11, activation='softmax'))\n",
    "# compile model\n",
    "opt = SGD(lr=0.001, momentum=0.9)\n",
    "model.compile(optimizer='adam', loss='categorical_crossentropy', metrics=['accuracy'])\n",
    "# model.fit_generator(train_generator,epochs=200,steps_per_epoch=training_steps,validation_data=test_generator,validation_steps=validation_steps,callbacks=[board])\n",
    "history=model.fit(x_train,y_train_cat,epochs=10,validation_data=(x_test,y_test_cat))\n",
    "\n"
   ]
  },
  {
   "cell_type": "code",
   "execution_count": 5,
   "metadata": {},
   "outputs": [
    {
     "data": {
      "text/plain": [
       "<AxesSubplot:>"
      ]
     },
     "execution_count": 5,
     "metadata": {},
     "output_type": "execute_result"
    },
    {
     "data": {
      "image/png": "[encoded data removed]",
      "text/plain": [
       "<Figure size 432x288 with 1 Axes>"
      ]
     },
     "metadata": {
      "needs_background": "light"
     },
     "output_type": "display_data"
    }
   ],
   "source": [
    "pd.DataFrame(history.history).plot()\n"
   ]
  },
  {
   "cell_type": "code",
   "execution_count": 6,
   "metadata": {},
   "outputs": [
    {
     "name": "stdout",
     "output_type": "stream",
     "text": [
      "11000/11000 [==============================] - 13s 1ms/sample - loss: 0.5549 - acc: 0.8143\n",
      "Test Accuracy: 0.8142727017402649\n"
     ]
    }
   ],
   "source": [
    "evaluation = model.evaluate(x_test, y_test_cat)\n",
    "print('Test Accuracy: {}'.format(evaluation[1]))"
   ]
  },
  {
   "cell_type": "code",
   "execution_count": 8,
   "metadata": {},
   "outputs": [
    {
     "ename": "AttributeError",
     "evalue": "module 'matplotlib.pyplot' has no attribute 'image_size'",
     "output_type": "error",
     "traceback": [
      "\u001b[0;31m---------------------------------------------------------------------------\u001b[0m",
      "\u001b[0;31mAttributeError\u001b[0m                            Traceback (most recent call last)",
      "\u001b[0;32m<ipython-input-8-9e677294e8fa>\u001b[0m in \u001b[0;36m<module>\u001b[0;34m\u001b[0m\n\u001b[1;32m      1\u001b[0m \u001b[0mp_test\u001b[0m \u001b[0;34m=\u001b[0m \u001b[0mmodel\u001b[0m\u001b[0;34m.\u001b[0m\u001b[0mpredict\u001b[0m\u001b[0;34m(\u001b[0m\u001b[0mx_test\u001b[0m\u001b[0;34m)\u001b[0m\u001b[0;34m.\u001b[0m\u001b[0margmax\u001b[0m\u001b[0;34m(\u001b[0m\u001b[0maxis\u001b[0m\u001b[0;34m=\u001b[0m\u001b[0;36m1\u001b[0m\u001b[0;34m)\u001b[0m\u001b[0;34m\u001b[0m\u001b[0;34m\u001b[0m\u001b[0m\n\u001b[1;32m      2\u001b[0m \u001b[0mcm\u001b[0m \u001b[0;34m=\u001b[0m \u001b[0mconfusion_matrix\u001b[0m\u001b[0;34m(\u001b[0m\u001b[0my_test\u001b[0m\u001b[0;34m,\u001b[0m \u001b[0mp_test\u001b[0m\u001b[0;34m)\u001b[0m\u001b[0;34m\u001b[0m\u001b[0;34m\u001b[0m\u001b[0m\n\u001b[0;32m----> 3\u001b[0;31m \u001b[0mplt\u001b[0m\u001b[0;34m.\u001b[0m\u001b[0mimage_size\u001b[0m\u001b[0;34m(\u001b[0m\u001b[0;36m15\u001b[0m\u001b[0;34m,\u001b[0m\u001b[0;36m15\u001b[0m\u001b[0;34m)\u001b[0m\u001b[0;34m\u001b[0m\u001b[0;34m\u001b[0m\u001b[0m\n\u001b[0m\u001b[1;32m      4\u001b[0m \u001b[0mplot_confusion_matrix\u001b[0m\u001b[0;34m(\u001b[0m\u001b[0mcm\u001b[0m \u001b[0;34m,\u001b[0m \u001b[0;34m[\u001b[0m\u001b[0;34m'airplane'\u001b[0m\u001b[0;34m,\u001b[0m \u001b[0;34m'automobile'\u001b[0m\u001b[0;34m,\u001b[0m \u001b[0;34m'bird'\u001b[0m\u001b[0;34m,\u001b[0m \u001b[0;34m'cat'\u001b[0m\u001b[0;34m,\u001b[0m \u001b[0;34m'deer'\u001b[0m\u001b[0;34m,\u001b[0m \u001b[0;34m'dog'\u001b[0m\u001b[0;34m,\u001b[0m \u001b[0;34m'frog'\u001b[0m\u001b[0;34m,\u001b[0m \u001b[0;34m'horse'\u001b[0m\u001b[0;34m,\u001b[0m \u001b[0;34m'ship'\u001b[0m\u001b[0;34m,\u001b[0m \u001b[0;34m'truck'\u001b[0m\u001b[0;34m,\u001b[0m\u001b[0;34m'bobcat'\u001b[0m\u001b[0;34m]\u001b[0m\u001b[0;34m,\u001b[0m\u001b[0mnormalize\u001b[0m\u001b[0;34m=\u001b[0m\u001b[0;32mTrue\u001b[0m\u001b[0;34m)\u001b[0m\u001b[0;34m\u001b[0m\u001b[0;34m\u001b[0m\u001b[0m\n",
      "\u001b[0;31mAttributeError\u001b[0m: module 'matplotlib.pyplot' has no attribute 'image_size'"
     ]
    }
   ],
   "source": [
    "\n",
    "p_test = model.predict(x_test).argmax(axis=1)\n",
    "cm = confusion_matrix(y_test, p_test)\n",
    "plt.image_size(15,15)\n",
    "plot_confusion_matrix(cm , ['airplane', 'automobile', 'bird', 'cat', 'deer', 'dog', 'frog', 'horse', 'ship', 'truck','bobcat'],normalize=True)"
   ]
  },
  {
   "cell_type": "code",
   "execution_count": 1,
   "metadata": {},
   "outputs": [
    {
     "ename": "NameError",
     "evalue": "name 'model' is not defined",
     "output_type": "error",
     "traceback": [
      "\u001b[0;31m---------------------------------------------------------------------------\u001b[0m",
      "\u001b[0;31mNameError\u001b[0m                                 Traceback (most recent call last)",
      "\u001b[0;32m/tmp/ipykernel_11225/4235460328.py\u001b[0m in \u001b[0;36m<cell line: 1>\u001b[0;34m()\u001b[0m\n\u001b[0;32m----> 1\u001b[0;31m \u001b[0mmodel\u001b[0m\u001b[0;34m.\u001b[0m\u001b[0msave\u001b[0m\u001b[0;34m(\u001b[0m\u001b[0;34m'/home/ubuntu/model'\u001b[0m\u001b[0;34m)\u001b[0m\u001b[0;34m\u001b[0m\u001b[0;34m\u001b[0m\u001b[0m\n\u001b[0m",
      "\u001b[0;31mNameError\u001b[0m: name 'model' is not defined"
     ]
    }
   ],
   "source": [
    "model.save('/home/majid/model.h5')"
   ]
  },
  {
   "cell_type": "code",
   "execution_count": 6,
   "metadata": {},
   "outputs": [],
   "source": [
    "import keras\n",
    "model_transfered=keras.models.load_model('/home/ubuntu/model.h5')"
   ]
  },
  {
   "cell_type": "code",
   "execution_count": 7,
   "metadata": {},
   "outputs": [
    {
     "name": "stdout",
     "output_type": "stream",
     "text": [
      "Model: \"sequential_4\"\n",
      "_________________________________________________________________\n",
      " Layer (type)                Output Shape              Param #   \n",
      "=================================================================\n",
      " conv2d_24 (Conv2D)          (None, 32, 32, 32)        896       \n",
      "                                                                 \n",
      " batch_normalization_28 (Bat  (None, 32, 32, 32)       128       \n",
      " chNormalization)                                                \n",
      "                                                                 \n",
      " conv2d_25 (Conv2D)          (None, 32, 32, 32)        9248      \n",
      "                                                                 \n",
      " batch_normalization_29 (Bat  (None, 32, 32, 32)       128       \n",
      " chNormalization)                                                \n",
      "                                                                 \n",
      " max_pooling2d_12 (MaxPoolin  (None, 16, 16, 32)       0         \n",
      " g2D)                                                            \n",
      "                                                                 \n",
      " dropout_16 (Dropout)        (None, 16, 16, 32)        0         \n",
      "                                                                 \n",
      " conv2d_26 (Conv2D)          (None, 16, 16, 64)        18496     \n",
      "                                                                 \n",
      " batch_normalization_30 (Bat  (None, 16, 16, 64)       256       \n",
      " chNormalization)                                                \n",
      "                                                                 \n",
      " conv2d_27 (Conv2D)          (None, 16, 16, 64)        36928     \n",
      "                                                                 \n",
      " batch_normalization_31 (Bat  (None, 16, 16, 64)       256       \n",
      " chNormalization)                                                \n",
      "                                                                 \n",
      " max_pooling2d_13 (MaxPoolin  (None, 8, 8, 64)         0         \n",
      " g2D)                                                            \n",
      "                                                                 \n",
      " dropout_17 (Dropout)        (None, 8, 8, 64)          0         \n",
      "                                                                 \n",
      " conv2d_28 (Conv2D)          (None, 8, 8, 128)         73856     \n",
      "                                                                 \n",
      " batch_normalization_32 (Bat  (None, 8, 8, 128)        512       \n",
      " chNormalization)                                                \n",
      "                                                                 \n",
      " conv2d_29 (Conv2D)          (None, 8, 8, 128)         147584    \n",
      "                                                                 \n",
      " batch_normalization_33 (Bat  (None, 8, 8, 128)        512       \n",
      " chNormalization)                                                \n",
      "                                                                 \n",
      " max_pooling2d_14 (MaxPoolin  (None, 4, 4, 128)        0         \n",
      " g2D)                                                            \n",
      "                                                                 \n",
      " dropout_18 (Dropout)        (None, 4, 4, 128)         0         \n",
      "                                                                 \n",
      " flatten_4 (Flatten)         (None, 2048)              0         \n",
      "                                                                 \n",
      " dense_8 (Dense)             (None, 128)               262272    \n",
      "                                                                 \n",
      " batch_normalization_34 (Bat  (None, 128)              512       \n",
      " chNormalization)                                                \n",
      "                                                                 \n",
      " dropout_19 (Dropout)        (None, 128)               0         \n",
      "                                                                 \n",
      " dense_9 (Dense)             (None, 10)                1290      \n",
      "                                                                 \n",
      "=================================================================\n",
      "Total params: 552,874\n",
      "Trainable params: 551,722\n",
      "Non-trainable params: 1,152\n",
      "_________________________________________________________________\n"
     ]
    }
   ],
   "source": [
    "model_transfered.summary()"
   ]
  },
  {
   "cell_type": "code",
   "execution_count": 8,
   "metadata": {},
   "outputs": [],
   "source": [
    "model_transfered = keras.Model(inputs=model_transfered.input, outputs=model_transfered.layers[-4].output)"
   ]
  },
  {
   "cell_type": "code",
   "execution_count": 9,
   "metadata": {},
   "outputs": [
    {
     "name": "stdout",
     "output_type": "stream",
     "text": [
      "Model: \"model\"\n",
      "_________________________________________________________________\n",
      " Layer (type)                Output Shape              Param #   \n",
      "=================================================================\n",
      " conv2d_24_input (InputLayer  [(None, 32, 32, 3)]      0         \n",
      " )                                                               \n",
      "                                                                 \n",
      " conv2d_24 (Conv2D)          (None, 32, 32, 32)        896       \n",
      "                                                                 \n",
      " batch_normalization_28 (Bat  (None, 32, 32, 32)       128       \n",
      " chNormalization)                                                \n",
      "                                                                 \n",
      " conv2d_25 (Conv2D)          (None, 32, 32, 32)        9248      \n",
      "                                                                 \n",
      " batch_normalization_29 (Bat  (None, 32, 32, 32)       128       \n",
      " chNormalization)                                                \n",
      "                                                                 \n",
      " max_pooling2d_12 (MaxPoolin  (None, 16, 16, 32)       0         \n",
      " g2D)                                                            \n",
      "                                                                 \n",
      " dropout_16 (Dropout)        (None, 16, 16, 32)        0         \n",
      "                                                                 \n",
      " conv2d_26 (Conv2D)          (None, 16, 16, 64)        18496     \n",
      "                                                                 \n",
      " batch_normalization_30 (Bat  (None, 16, 16, 64)       256       \n",
      " chNormalization)                                                \n",
      "                                                                 \n",
      " conv2d_27 (Conv2D)          (None, 16, 16, 64)        36928     \n",
      "                                                                 \n",
      " batch_normalization_31 (Bat  (None, 16, 16, 64)       256       \n",
      " chNormalization)                                                \n",
      "                                                                 \n",
      " max_pooling2d_13 (MaxPoolin  (None, 8, 8, 64)         0         \n",
      " g2D)                                                            \n",
      "                                                                 \n",
      " dropout_17 (Dropout)        (None, 8, 8, 64)          0         \n",
      "                                                                 \n",
      " conv2d_28 (Conv2D)          (None, 8, 8, 128)         73856     \n",
      "                                                                 \n",
      " batch_normalization_32 (Bat  (None, 8, 8, 128)        512       \n",
      " chNormalization)                                                \n",
      "                                                                 \n",
      " conv2d_29 (Conv2D)          (None, 8, 8, 128)         147584    \n",
      "                                                                 \n",
      " batch_normalization_33 (Bat  (None, 8, 8, 128)        512       \n",
      " chNormalization)                                                \n",
      "                                                                 \n",
      " max_pooling2d_14 (MaxPoolin  (None, 4, 4, 128)        0         \n",
      " g2D)                                                            \n",
      "                                                                 \n",
      " dropout_18 (Dropout)        (None, 4, 4, 128)         0         \n",
      "                                                                 \n",
      " flatten_4 (Flatten)         (None, 2048)              0         \n",
      "                                                                 \n",
      " dense_8 (Dense)             (None, 128)               262272    \n",
      "                                                                 \n",
      "=================================================================\n",
      "Total params: 551,072\n",
      "Trainable params: 550,176\n",
      "Non-trainable params: 896\n",
      "_________________________________________________________________\n"
     ]
    }
   ],
   "source": [
    "model_transfered.summary()"
   ]
  },
  {
   "cell_type": "code",
   "execution_count": 11,
   "metadata": {},
   "outputs": [],
   "source": [
    "for layer in model_transfered.layers:\n",
    "    layer.trainable = False\n"
   ]
  },
  {
   "cell_type": "code",
   "execution_count": 12,
   "metadata": {},
   "outputs": [],
   "source": [
    "#model.add(BatchNormalization())\n",
    "#model.add(Dropout(0.5))\n",
    "#model.add(Dense(10, activation='softmax'))\n",
    "\n",
    "new_model = keras.Sequential()\n",
    "new_model.add(model_transfered) # Add entire model\n",
    "new_model.add(keras.layers.BatchNormalization())\n",
    "new_model.add(keras.layers.Dropout(0.5))\n",
    "new_model.add(keras.layers.Dense(11, activation='softmax'))"
   ]
  },
  {
   "cell_type": "code",
   "execution_count": 13,
   "metadata": {},
   "outputs": [
    {
     "name": "stdout",
     "output_type": "stream",
     "text": [
      "Model: \"sequential_1\"\n",
      "_________________________________________________________________\n",
      " Layer (type)                Output Shape              Param #   \n",
      "=================================================================\n",
      " model (Functional)          (None, 128)               551072    \n",
      "                                                                 \n",
      " batch_normalization_7 (Batc  (None, 128)              512       \n",
      " hNormalization)                                                 \n",
      "                                                                 \n",
      " dropout_4 (Dropout)         (None, 128)               0         \n",
      "                                                                 \n",
      " dense_2 (Dense)             (None, 11)                1419      \n",
      "                                                                 \n",
      "=================================================================\n",
      "Total params: 553,003\n",
      "Trainable params: 1,675\n",
      "Non-trainable params: 551,328\n",
      "_________________________________________________________________\n"
     ]
    }
   ],
   "source": [
    "new_model.summary()"
   ]
  },
  {
   "cell_type": "code",
   "execution_count": 16,
   "metadata": {},
   "outputs": [
    {
     "name": "stdout",
     "output_type": "stream",
     "text": [
      "Layer: 0, Trainable: False\n",
      "Layer: 1, Trainable: True\n",
      "Layer: 2, Trainable: True\n",
      "Layer: 3, Trainable: True\n"
     ]
    }
   ],
   "source": [
    "for index, layer in enumerate(new_model.layers):\n",
    "    print(\"Layer: {}, Trainable: {}\".format(index, layer.trainable))"
   ]
  },
  {
   "cell_type": "code",
   "execution_count": 15,
   "metadata": {},
   "outputs": [],
   "source": [
    "new_model.layers[0].trainable=False"
   ]
  },
  {
   "cell_type": "code",
   "execution_count": 24,
   "metadata": {},
   "outputs": [
    {
     "name": "stdout",
     "output_type": "stream",
     "text": [
      "(6000, 32, 32, 3)\n",
      "(6000, 1)\n",
      "Shape of x_train is (55000, 32, 32, 3)\n",
      "Shape of x_test is (11000, 32, 32, 3)\n",
      "Shape of y_train is (55000, 1)\n",
      "Shape of y_test is (11000, 1)\n",
      "Shape of y_train after to_categorical is (55000, 11)\n",
      "(55000, 11)\n",
      "(11000, 11)\n"
     ]
    }
   ],
   "source": [
    "(x_train, y_train), (x_test, y_test)=cifar10.load_data()\n",
    "instances = []\n",
    "images_path='/home/ubuntu/images/converted'\n",
    "# Load in the images\n",
    "for filepath in os.listdir(images_path):  \n",
    "    image=( Image.open(images_path+\"/\"+filepath))\n",
    "    data=np.asarray(image)\n",
    "    if data.shape!=(32,32,3): \n",
    "        print(filepath)\n",
    "        continue\n",
    "    instances.append(data)\n",
    "\n",
    "bobcats=np.stack(instances, axis=0)\n",
    "print(bobcats.shape)\n",
    "bobcat_group=np.arange(6000).reshape(6000,1); \n",
    "bobcat_group.fill(10)\n",
    "print(bobcat_group  .shape)\n",
    "x_train=np.concatenate((x_train,bobcats[:5000,:,:,:]),axis=0)\n",
    "x_test=np.concatenate((x_test,bobcats[5000:,:,:,:]),axis=0)\n",
    "y_train=np.concatenate((y_train,bobcat_group[:5000]),axis=0)\n",
    "y_test=np.concatenate((y_test,bobcat_group[5000:]),axis=0)\n",
    "\n",
    "\n",
    "print('Shape of x_train is {}'.format(x_train.shape))\n",
    "print('Shape of x_test is {}'.format(x_test.shape))\n",
    "print('Shape of y_train is {}'.format(y_train.shape))\n",
    "print('Shape of y_test is {}'.format(y_test.shape))\n",
    "\n",
    "\n",
    "a= to_categorical(y_train)\n",
    "\n",
    "print('Shape of y_train after to_categorical is {}'.format(a.shape))\n",
    "# Normalizing\n",
    "x_train=x_train/255\n",
    "x_test=x_test/255\n",
    "\n",
    "#One hot encoding\n",
    "y_train_cat=to_categorical(y_train,11)\n",
    "y_test_cat=to_categorical(y_test,11)\n",
    "\n",
    "print(y_train_cat.shape)\n",
    "print(y_test_cat.shape)\n",
    "\n",
    "\n",
    "\n",
    "\n"
   ]
  },
  {
   "cell_type": "code",
   "execution_count": 25,
   "metadata": {},
   "outputs": [
    {
     "name": "stdout",
     "output_type": "stream",
     "text": [
      "Epoch 1/50\n",
      "1719/1719 [==============================] - 30s 17ms/step - loss: 0.5711 - accuracy: 0.8089 - val_loss: 0.5194 - val_accuracy: 0.8320\n",
      "Epoch 2/50\n",
      "1719/1719 [==============================] - 29s 17ms/step - loss: 0.3558 - accuracy: 0.8740 - val_loss: 0.5218 - val_accuracy: 0.8318\n",
      "Epoch 3/50\n",
      "1719/1719 [==============================] - 29s 17ms/step - loss: 0.3461 - accuracy: 0.8748 - val_loss: 0.5254 - val_accuracy: 0.8316\n",
      "Epoch 4/50\n",
      "1719/1719 [==============================] - 29s 17ms/step - loss: 0.3414 - accuracy: 0.8778 - val_loss: 0.5295 - val_accuracy: 0.8321\n",
      "Epoch 5/50\n",
      "1719/1719 [==============================] - 29s 17ms/step - loss: 0.3345 - accuracy: 0.8799 - val_loss: 0.5308 - val_accuracy: 0.8310\n",
      "Epoch 6/50\n",
      "1719/1719 [==============================] - 29s 17ms/step - loss: 0.3401 - accuracy: 0.8773 - val_loss: 0.5267 - val_accuracy: 0.8324\n",
      "Epoch 7/50\n",
      "1719/1719 [==============================] - 29s 17ms/step - loss: 0.3345 - accuracy: 0.8792 - val_loss: 0.5294 - val_accuracy: 0.8318\n",
      "Epoch 8/50\n",
      "1719/1719 [==============================] - 29s 17ms/step - loss: 0.3439 - accuracy: 0.8754 - val_loss: 0.5226 - val_accuracy: 0.8340\n",
      "Epoch 9/50\n",
      "1719/1719 [==============================] - 29s 17ms/step - loss: 0.3346 - accuracy: 0.8790 - val_loss: 0.5323 - val_accuracy: 0.8318\n",
      "Epoch 10/50\n",
      "1719/1719 [==============================] - 29s 17ms/step - loss: 0.3426 - accuracy: 0.8772 - val_loss: 0.5248 - val_accuracy: 0.8335\n",
      "Epoch 11/50\n",
      "1719/1719 [==============================] - 29s 17ms/step - loss: 0.3427 - accuracy: 0.8788 - val_loss: 0.5223 - val_accuracy: 0.8335\n",
      "Epoch 12/50\n",
      "1719/1719 [==============================] - 29s 17ms/step - loss: 0.3413 - accuracy: 0.8788 - val_loss: 0.5263 - val_accuracy: 0.8333\n",
      "Epoch 13/50\n",
      "1719/1719 [==============================] - 29s 17ms/step - loss: 0.3346 - accuracy: 0.8802 - val_loss: 0.5307 - val_accuracy: 0.8336\n",
      "Epoch 14/50\n",
      "1719/1719 [==============================] - 29s 17ms/step - loss: 0.3368 - accuracy: 0.8798 - val_loss: 0.5328 - val_accuracy: 0.8332\n",
      "Epoch 15/50\n",
      "1719/1719 [==============================] - 29s 17ms/step - loss: 0.3338 - accuracy: 0.8803 - val_loss: 0.5303 - val_accuracy: 0.8324\n",
      "Epoch 16/50\n",
      "1719/1719 [==============================] - 30s 17ms/step - loss: 0.3361 - accuracy: 0.8784 - val_loss: 0.5318 - val_accuracy: 0.8331\n",
      "Epoch 17/50\n",
      "1719/1719 [==============================] - 29s 17ms/step - loss: 0.3371 - accuracy: 0.8787 - val_loss: 0.5291 - val_accuracy: 0.8324\n",
      "Epoch 18/50\n",
      "1719/1719 [==============================] - 29s 17ms/step - loss: 0.3356 - accuracy: 0.8791 - val_loss: 0.5294 - val_accuracy: 0.8330\n",
      "Epoch 19/50\n",
      "1719/1719 [==============================] - 29s 17ms/step - loss: 0.3357 - accuracy: 0.8794 - val_loss: 0.5307 - val_accuracy: 0.8314\n",
      "Epoch 20/50\n",
      "1719/1719 [==============================] - 29s 17ms/step - loss: 0.3395 - accuracy: 0.8791 - val_loss: 0.5244 - val_accuracy: 0.8325\n",
      "Epoch 21/50\n",
      "1719/1719 [==============================] - 47s 28ms/step - loss: 0.3357 - accuracy: 0.8797 - val_loss: 0.5275 - val_accuracy: 0.8327\n",
      "Epoch 22/50\n",
      "1719/1719 [==============================] - 132s 77ms/step - loss: 0.3362 - accuracy: 0.8795 - val_loss: 0.5317 - val_accuracy: 0.8325\n",
      "Epoch 23/50\n",
      "1719/1719 [==============================] - 54s 32ms/step - loss: 0.3351 - accuracy: 0.8799 - val_loss: 0.5310 - val_accuracy: 0.8341\n",
      "Epoch 24/50\n",
      "1719/1719 [==============================] - 89s 52ms/step - loss: 0.3381 - accuracy: 0.8770 - val_loss: 0.5292 - val_accuracy: 0.8334\n",
      "Epoch 25/50\n",
      "1719/1719 [==============================] - 131s 76ms/step - loss: 0.3356 - accuracy: 0.8794 - val_loss: 0.5270 - val_accuracy: 0.8340\n",
      "Epoch 26/50\n",
      "1719/1719 [==============================] - 72s 42ms/step - loss: 0.3389 - accuracy: 0.8784 - val_loss: 0.5351 - val_accuracy: 0.8309\n",
      "Epoch 27/50\n",
      "1719/1719 [==============================] - 71s 41ms/step - loss: 0.3343 - accuracy: 0.8780 - val_loss: 0.5318 - val_accuracy: 0.8315\n",
      "Epoch 28/50\n",
      "1719/1719 [==============================] - 132s 77ms/step - loss: 0.3333 - accuracy: 0.8794 - val_loss: 0.5345 - val_accuracy: 0.8324\n",
      "Epoch 29/50\n",
      "1719/1719 [==============================] - 91s 53ms/step - loss: 0.3326 - accuracy: 0.8812 - val_loss: 0.5329 - val_accuracy: 0.8345\n",
      "Epoch 30/50\n",
      "1719/1719 [==============================] - 51s 30ms/step - loss: 0.3390 - accuracy: 0.8785 - val_loss: 0.5312 - val_accuracy: 0.8312\n",
      "Epoch 31/50\n",
      "1719/1719 [==============================] - 131s 76ms/step - loss: 0.3363 - accuracy: 0.8801 - val_loss: 0.5286 - val_accuracy: 0.8323\n",
      "Epoch 32/50\n",
      "1719/1719 [==============================] - 111s 65ms/step - loss: 0.3371 - accuracy: 0.8794 - val_loss: 0.5290 - val_accuracy: 0.8323\n",
      "Epoch 33/50\n",
      "1719/1719 [==============================] - 33s 19ms/step - loss: 0.3318 - accuracy: 0.8808 - val_loss: 0.5295 - val_accuracy: 0.8326\n",
      "Epoch 34/50\n",
      "1719/1719 [==============================] - 131s 76ms/step - loss: 0.3369 - accuracy: 0.8793 - val_loss: 0.5310 - val_accuracy: 0.8330\n",
      "Epoch 35/50\n",
      "1719/1719 [==============================] - 130s 76ms/step - loss: 0.3334 - accuracy: 0.8804 - val_loss: 0.5284 - val_accuracy: 0.8331\n",
      "Epoch 36/50\n",
      "1719/1719 [==============================] - 32s 19ms/step - loss: 0.3388 - accuracy: 0.8792 - val_loss: 0.5234 - val_accuracy: 0.8345\n",
      "Epoch 37/50\n",
      "1719/1719 [==============================] - 106s 61ms/step - loss: 0.3306 - accuracy: 0.8813 - val_loss: 0.5300 - val_accuracy: 0.8326\n",
      "Epoch 38/50\n",
      "1719/1719 [==============================] - 131s 76ms/step - loss: 0.3359 - accuracy: 0.8794 - val_loss: 0.5264 - val_accuracy: 0.8333\n",
      "Epoch 39/50\n",
      "1719/1719 [==============================] - 54s 32ms/step - loss: 0.3326 - accuracy: 0.8801 - val_loss: 0.5259 - val_accuracy: 0.8327\n",
      "Epoch 40/50\n",
      "1719/1719 [==============================] - 90s 52ms/step - loss: 0.3361 - accuracy: 0.8798 - val_loss: 0.5262 - val_accuracy: 0.8336\n",
      "Epoch 41/50\n",
      "1719/1719 [==============================] - 132s 77ms/step - loss: 0.3420 - accuracy: 0.8767 - val_loss: 0.5209 - val_accuracy: 0.8344\n",
      "Epoch 42/50\n",
      "1719/1719 [==============================] - 72s 42ms/step - loss: 0.3337 - accuracy: 0.8797 - val_loss: 0.5301 - val_accuracy: 0.8321\n",
      "Epoch 43/50\n",
      "1719/1719 [==============================] - 64s 37ms/step - loss: 0.3360 - accuracy: 0.8793 - val_loss: 0.5293 - val_accuracy: 0.8345\n",
      "Epoch 44/50\n",
      "1719/1719 [==============================] - 130s 76ms/step - loss: 0.3362 - accuracy: 0.8800 - val_loss: 0.5279 - val_accuracy: 0.8329\n",
      "Epoch 45/50\n",
      "1719/1719 [==============================] - 98s 57ms/step - loss: 0.3381 - accuracy: 0.8794 - val_loss: 0.5282 - val_accuracy: 0.8340\n",
      "Epoch 46/50\n",
      "1719/1719 [==============================] - 43s 25ms/step - loss: 0.3316 - accuracy: 0.8807 - val_loss: 0.5310 - val_accuracy: 0.8332\n",
      "Epoch 47/50\n",
      "1719/1719 [==============================] - 129s 75ms/step - loss: 0.3333 - accuracy: 0.8809 - val_loss: 0.5266 - val_accuracy: 0.8339\n",
      "Epoch 48/50\n",
      "1719/1719 [==============================] - 121s 70ms/step - loss: 0.3379 - accuracy: 0.8797 - val_loss: 0.5304 - val_accuracy: 0.8319\n",
      "Epoch 49/50\n",
      "1719/1719 [==============================] - 33s 19ms/step - loss: 0.3392 - accuracy: 0.8801 - val_loss: 0.5307 - val_accuracy: 0.8324\n",
      "Epoch 50/50\n",
      "1719/1719 [==============================] - 112s 65ms/step - loss: 0.3317 - accuracy: 0.8815 - val_loss: 0.5320 - val_accuracy: 0.8331\n"
     ]
    }
   ],
   "source": [
    "new_model.compile(optimizer='adam', loss='categorical_crossentropy', metrics=['accuracy'])\n",
    "# model.fit_generator(train_generator,epochs=200,steps_per_epoch=training_steps,validation_data=test_generator,validation_steps=validation_steps,callbacks=[board])\n",
    "history=new_model.fit(x_train,y_train_cat,epochs=50,validation_data=(x_test,y_test_cat))"
   ]
  },
  {
   "cell_type": "code",
   "execution_count": 26,
   "metadata": {},
   "outputs": [
    {
     "data": {
      "text/plain": [
       "<AxesSubplot:>"
      ]
     },
     "execution_count": 26,
     "metadata": {},
     "output_type": "execute_result"
    },
    {
     "data": {
      "image/png": "[encoded data removed]",
      "text/plain": [
       "<Figure size 432x288 with 1 Axes>"
      ]
     },
     "metadata": {
      "needs_background": "light"
     },
     "output_type": "display_data"
    }
   ],
   "source": [
    "pd.DataFrame(history.history).plot()"
   ]
  },
  {
   "cell_type": "code",
   "execution_count": 27,
   "metadata": {},
   "outputs": [
    {
     "name": "stdout",
     "output_type": "stream",
     "text": [
      "344/344 [==============================] - 4s 12ms/step - loss: 0.5320 - accuracy: 0.8331\n",
      "Test Accuracy: 0.8330909013748169\n"
     ]
    }
   ],
   "source": [
    "evaluation = new_model.evaluate(x_test, y_test_cat)\n",
    "print('Test Accuracy: {}'.format(evaluation[1]))"
   ]
  },
  {
   "cell_type": "code",
   "execution_count": null,
   "metadata": {},
   "outputs": [],
   "source": [
    "\n",
    "p_test = new_model.predict(x_test).argmax(axis=1)\n",
    "cm = confusion_matrix(y_test, p_test)\n",
    "figure(figsize=(8, 6), dpi=80)\n",
    "plot_confusion_matrix(cm , ['airplane', 'automobile', 'bird', 'cat', 'deer', 'dog', 'frog', 'horse', 'ship', 'truck','bobcat'],normalize=True)"
   ]
  },
  {
   "cell_type": "code",
   "execution_count": null,
   "metadata": {},
   "outputs": [],
   "source": []
  }
 ],
 "metadata": {
  "kernelspec": {
   "display_name": "Python 3",
   "language": "python",
   "name": "python3"
  },
  "language_info": {
   "codemirror_mode": {
    "name": "ipython",
    "version": 3
   },
   "file_extension": ".py",
   "mimetype": "text/x-python",
   "name": "python",
   "nbconvert_exporter": "python",
   "pygments_lexer": "ipython3",
   "version": "3.6.13"
  }
 },
 "nbformat": 4,
 "nbformat_minor": 4
}
